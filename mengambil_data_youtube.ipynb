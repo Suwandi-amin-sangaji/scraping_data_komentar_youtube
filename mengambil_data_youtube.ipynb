{
 "cells": [
  {
   "cell_type": "code",
   "execution_count": 4,
   "id": "58db00c1",
   "metadata": {},
   "outputs": [
    {
     "name": "stdout",
     "output_type": "stream",
     "text": [
      "Requirement already satisfied: selenium in /Volumes/wandy/opt/anaconda3/lib/python3.8/site-packages (3.141.0)\n",
      "Requirement already satisfied: urllib3 in /Volumes/wandy/opt/anaconda3/lib/python3.8/site-packages (from selenium) (1.26.4)\n",
      "Note: you may need to restart the kernel to use updated packages.\n"
     ]
    }
   ],
   "source": [
    "pip install selenium"
   ]
  },
  {
   "cell_type": "code",
   "execution_count": 21,
   "id": "74ba4fad",
   "metadata": {},
   "outputs": [],
   "source": [
    "from selenium import webdriver\n",
    "from bs4 import BeautifulSoup as bs\n",
    "import time\n",
    "import pandas as pd"
   ]
  },
  {
   "cell_type": "code",
   "execution_count": 31,
   "id": "27691c79",
   "metadata": {},
   "outputs": [],
   "source": [
    "\"\"\"path chromenya di copy \n",
    "karna saya pakai mac makanaya saya butuh 'chromedriver' kalau di windows \n",
    "langsung aja cari file exe nya dan copy path nya di bawah\"\"\" #ini cuma komentar hapus juga nggk apa2\n",
    "driver = webdriver.Chrome('/Users/macbook/Downloads/chromedriver') #copy di dalam sini bro\n",
    "#masukka link youtube yang mw di scrapping datanya\n",
    "driver.get('https://www.youtube.com/watch?v=CMC2q2WyQVk'); \n",
    "#sekarang tunggu biarkan memuat komentar\n",
    "time.sleep(200) # sesuaikan saja mw berapa lama waktu load nya\n",
    "driver.execute_script('window.scrollTo(1,1000);') #klw ini berapa banyak data yang mw kita scrapping\n",
    "comments_youtube=[]\n",
    "\"\"\"data komentar terletak pada kode find_element_by_xpath(‘//*[@id=”contents”]’)yang \n",
    "mana data koment terletak pada bagian class id='contens' dan id ='contents-text'.\"\"\" #ini juga cuma komentar klw mw di hapus silahkan\n",
    "comment_div=driver.find_element_by_xpath('//*[@id=\"contents\"]')\n",
    "comments=comment_div.find_elements_by_xpath('//*[@id=\"content-text\"]')\n",
    "for comment in comments:\n",
    "    comments_youtube.append(comment.text)"
   ]
  },
  {
   "cell_type": "code",
   "execution_count": 38,
   "id": "33f51fbe",
   "metadata": {},
   "outputs": [
    {
     "name": "stdout",
     "output_type": "stream",
     "text": [
      "                                       Comments_youtube\n",
      "0     Di hari yang baik saya sampaikan \"SABARRRRR......\n",
      "1     Selamat datang di Indonesia menteri maritim bi...\n",
      "2     Heeemmmm bener nih . Yg mau korupsi langsung m...\n",
      "3     Apa yg membaik pak Luhut\\nMasyarakat panik str...\n",
      "4     URUS DULU PAK TENAGA KERJA ASING YANG BEBAS KE...\n",
      "...                                                 ...\n",
      "1129                         Yakin tuh gk di corup....!\n",
      "1130  Wkwkwkwkkwkwkwk...katanya terkendali...mana yg...\n",
      "1131  Stop lah PPKM sudah terbukti tidak manjur,suda...\n",
      "1132  TOLONG RILIS DAERAH YANG BISA JALANKAN PPKM JA...\n",
      "1133        KALAU DIPERPANJANG PASTI AKAN ADA KERUSUHAN\n",
      "\n",
      "[1134 rows x 1 columns]\n"
     ]
    }
   ],
   "source": [
    "\"\"\"script ini untuk menyimpan data dengan nama “comments_youtube.csv” \n",
    "data otomatis akan tersimpan\"\"\"\n",
    "import pandas as pd\n",
    "comments_dict = {'Comments_youtube':comments_youtube}\n",
    "comments_youtube_df = pd.DataFrame(comments_dict)\n",
    "print(comments_youtube_df)\n",
    "comments_youtube_df.to_csv('/Users/macbook/Downloads/comments_youtube.csv')"
   ]
  },
  {
   "cell_type": "code",
   "execution_count": 36,
   "id": "d4988444",
   "metadata": {},
   "outputs": [
    {
     "data": {
      "text/html": [
       "<div>\n",
       "<style scoped>\n",
       "    .dataframe tbody tr th:only-of-type {\n",
       "        vertical-align: middle;\n",
       "    }\n",
       "\n",
       "    .dataframe tbody tr th {\n",
       "        vertical-align: top;\n",
       "    }\n",
       "\n",
       "    .dataframe thead th {\n",
       "        text-align: right;\n",
       "    }\n",
       "</style>\n",
       "<table border=\"1\" class=\"dataframe\">\n",
       "  <thead>\n",
       "    <tr style=\"text-align: right;\">\n",
       "      <th></th>\n",
       "      <th>Comments_youtube</th>\n",
       "    </tr>\n",
       "  </thead>\n",
       "  <tbody>\n",
       "    <tr>\n",
       "      <th>0</th>\n",
       "      <td>Di hari yang baik saya sampaikan \"SABARRRRR......</td>\n",
       "    </tr>\n",
       "    <tr>\n",
       "      <th>1</th>\n",
       "      <td>Selamat datang di Indonesia menteri maritim bi...</td>\n",
       "    </tr>\n",
       "    <tr>\n",
       "      <th>2</th>\n",
       "      <td>Heeemmmm bener nih . Yg mau korupsi langsung m...</td>\n",
       "    </tr>\n",
       "    <tr>\n",
       "      <th>3</th>\n",
       "      <td>Apa yg membaik pak Luhut\\nMasyarakat panik str...</td>\n",
       "    </tr>\n",
       "    <tr>\n",
       "      <th>4</th>\n",
       "      <td>URUS DULU PAK TENAGA KERJA ASING YANG BEBAS KE...</td>\n",
       "    </tr>\n",
       "    <tr>\n",
       "      <th>...</th>\n",
       "      <td>...</td>\n",
       "    </tr>\n",
       "    <tr>\n",
       "      <th>1129</th>\n",
       "      <td>Yakin tuh gk di corup....!</td>\n",
       "    </tr>\n",
       "    <tr>\n",
       "      <th>1130</th>\n",
       "      <td>Wkwkwkwkkwkwkwk...katanya terkendali...mana yg...</td>\n",
       "    </tr>\n",
       "    <tr>\n",
       "      <th>1131</th>\n",
       "      <td>Stop lah PPKM sudah terbukti tidak manjur,suda...</td>\n",
       "    </tr>\n",
       "    <tr>\n",
       "      <th>1132</th>\n",
       "      <td>TOLONG RILIS DAERAH YANG BISA JALANKAN PPKM JA...</td>\n",
       "    </tr>\n",
       "    <tr>\n",
       "      <th>1133</th>\n",
       "      <td>KALAU DIPERPANJANG PASTI AKAN ADA KERUSUHAN</td>\n",
       "    </tr>\n",
       "  </tbody>\n",
       "</table>\n",
       "<p>1134 rows × 1 columns</p>\n",
       "</div>"
      ],
      "text/plain": [
       "                                       Comments_youtube\n",
       "0     Di hari yang baik saya sampaikan \"SABARRRRR......\n",
       "1     Selamat datang di Indonesia menteri maritim bi...\n",
       "2     Heeemmmm bener nih . Yg mau korupsi langsung m...\n",
       "3     Apa yg membaik pak Luhut\\nMasyarakat panik str...\n",
       "4     URUS DULU PAK TENAGA KERJA ASING YANG BEBAS KE...\n",
       "...                                                 ...\n",
       "1129                         Yakin tuh gk di corup....!\n",
       "1130  Wkwkwkwkkwkwkwk...katanya terkendali...mana yg...\n",
       "1131  Stop lah PPKM sudah terbukti tidak manjur,suda...\n",
       "1132  TOLONG RILIS DAERAH YANG BISA JALANKAN PPKM JA...\n",
       "1133        KALAU DIPERPANJANG PASTI AKAN ADA KERUSUHAN\n",
       "\n",
       "[1134 rows x 1 columns]"
      ]
     },
     "execution_count": 36,
     "metadata": {},
     "output_type": "execute_result"
    }
   ],
   "source": [
    "comments_youtube_df.head(1134)"
   ]
  },
  {
   "cell_type": "code",
   "execution_count": null,
   "id": "5ce002a4",
   "metadata": {},
   "outputs": [],
   "source": []
  }
 ],
 "metadata": {
  "kernelspec": {
   "display_name": "Python 3",
   "language": "python",
   "name": "python3"
  },
  "language_info": {
   "codemirror_mode": {
    "name": "ipython",
    "version": 3
   },
   "file_extension": ".py",
   "mimetype": "text/x-python",
   "name": "python",
   "nbconvert_exporter": "python",
   "pygments_lexer": "ipython3",
   "version": "3.8.8"
  }
 },
 "nbformat": 4,
 "nbformat_minor": 5
}
